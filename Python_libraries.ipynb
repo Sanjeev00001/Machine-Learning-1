{
  "nbformat": 4,
  "nbformat_minor": 0,
  "metadata": {
    "colab": {
      "provenance": [],
      "authorship_tag": "ABX9TyPvruTo45oQTh9J8NuMkpII",
      "include_colab_link": true
    },
    "kernelspec": {
      "name": "python3",
      "display_name": "Python 3"
    },
    "language_info": {
      "name": "python"
    }
  },
  "cells": [
    {
      "cell_type": "markdown",
      "metadata": {
        "id": "view-in-github",
        "colab_type": "text"
      },
      "source": [
        "<a href=\"https://colab.research.google.com/github/Sanjeev00001/Machine-Learning-1/blob/main/Python_libraries.ipynb\" target=\"_parent\"><img src=\"https://colab.research.google.com/assets/colab-badge.svg\" alt=\"Open In Colab\"/></a>"
      ]
    },
    {
      "cell_type": "code",
      "source": [
        "print(\"hellow\")"
      ],
      "metadata": {
        "colab": {
          "base_uri": "https://localhost:8080/"
        },
        "id": "wRH8sLaAyrS9",
        "outputId": "8f5ef684-5238-4851-a540-146d079328aa"
      },
      "execution_count": null,
      "outputs": [
        {
          "output_type": "stream",
          "name": "stdout",
          "text": [
            "hellow\n"
          ]
        }
      ]
    },
    {
      "cell_type": "code",
      "source": [
        "a=2\n",
        "b=4\n",
        "c=a+b\n",
        "print(c)"
      ],
      "metadata": {
        "colab": {
          "base_uri": "https://localhost:8080/"
        },
        "id": "iFvC3ZGdy3NR",
        "outputId": "fcc69fe0-ef97-4b04-a296-ed045b609940"
      },
      "execution_count": null,
      "outputs": [
        {
          "output_type": "stream",
          "name": "stdout",
          "text": [
            "6\n"
          ]
        }
      ]
    },
    {
      "cell_type": "code",
      "source": [
        "import numpy as np"
      ],
      "metadata": {
        "id": "i7zh30m2y8Ft"
      },
      "execution_count": null,
      "outputs": []
    },
    {
      "cell_type": "code",
      "source": [
        "a=int(input(\"enter the value of a \"))\n",
        "b=int(input(\"enter the values of b \"))\n",
        "c=a+b\n",
        "print(c)\n",
        "d=a-b\n",
        "print(d)\n",
        "e=a*b\n",
        "print(e)\n",
        "\n"
      ],
      "metadata": {
        "colab": {
          "base_uri": "https://localhost:8080/"
        },
        "id": "M_AAPR5pzAn1",
        "outputId": "c82c9b96-5f26-4876-aba9-68700b50b08e"
      },
      "execution_count": null,
      "outputs": [
        {
          "output_type": "stream",
          "name": "stdout",
          "text": [
            "enter the value of a 1\n",
            "enter the values of b 3\n",
            "4\n",
            "-2\n",
            "3\n"
          ]
        }
      ]
    },
    {
      "cell_type": "code",
      "source": [
        "x=np.array([[1],[2],[3]])\n",
        "print(x)"
      ],
      "metadata": {
        "colab": {
          "base_uri": "https://localhost:8080/"
        },
        "id": "RXwaQE5qzgLB",
        "outputId": "17a4a253-01d3-4ead-cc60-98072d1d3a76"
      },
      "execution_count": null,
      "outputs": [
        {
          "output_type": "stream",
          "name": "stdout",
          "text": [
            "[[1]\n",
            " [2]\n",
            " [3]]\n"
          ]
        }
      ]
    },
    {
      "cell_type": "code",
      "source": [
        "x.shape"
      ],
      "metadata": {
        "colab": {
          "base_uri": "https://localhost:8080/"
        },
        "id": "6f1FZd7q0x57",
        "outputId": "b9c14179-59b5-4f37-ecc6-8772ac340b83"
      },
      "execution_count": null,
      "outputs": [
        {
          "output_type": "execute_result",
          "data": {
            "text/plain": [
              "(3, 1)"
            ]
          },
          "metadata": {},
          "execution_count": 12
        }
      ]
    },
    {
      "cell_type": "code",
      "source": [
        "## vector addition\n"
      ],
      "metadata": {
        "id": "BwINiVX3002Y"
      },
      "execution_count": null,
      "outputs": []
    },
    {
      "cell_type": "code",
      "source": [
        "y=np.array([[2],[3],[4]])"
      ],
      "metadata": {
        "id": "p5fVQ5AK1MpG"
      },
      "execution_count": null,
      "outputs": []
    },
    {
      "cell_type": "code",
      "source": [
        "print(y)"
      ],
      "metadata": {
        "colab": {
          "base_uri": "https://localhost:8080/"
        },
        "id": "Kl48MSN-1WOs",
        "outputId": "042ece2c-fa0d-4130-b4b1-acc442cb35d9"
      },
      "execution_count": null,
      "outputs": [
        {
          "output_type": "stream",
          "name": "stdout",
          "text": [
            "[[2]\n",
            " [3]\n",
            " [4]]\n"
          ]
        }
      ]
    },
    {
      "cell_type": "code",
      "source": [
        "vector_sum=x+y"
      ],
      "metadata": {
        "id": "HtObReDx1XHV"
      },
      "execution_count": null,
      "outputs": []
    },
    {
      "cell_type": "code",
      "source": [
        "print(vector_sum)"
      ],
      "metadata": {
        "colab": {
          "base_uri": "https://localhost:8080/"
        },
        "id": "zImgvykc1ipY",
        "outputId": "ce71c925-dc0a-4b5e-e9d5-ae1e14675ba2"
      },
      "execution_count": null,
      "outputs": [
        {
          "output_type": "stream",
          "name": "stdout",
          "text": [
            "[[3]\n",
            " [5]\n",
            " [7]]\n"
          ]
        }
      ]
    },
    {
      "cell_type": "code",
      "source": [
        "np.add(x,y)"
      ],
      "metadata": {
        "colab": {
          "base_uri": "https://localhost:8080/"
        },
        "id": "jIPcE_Xk1oVz",
        "outputId": "b2f2fe69-0cd1-4294-d6e7-9391e50ce59f"
      },
      "execution_count": null,
      "outputs": [
        {
          "output_type": "execute_result",
          "data": {
            "text/plain": [
              "array([[3],\n",
              "       [5],\n",
              "       [7]])"
            ]
          },
          "metadata": {},
          "execution_count": 20
        }
      ]
    },
    {
      "cell_type": "code",
      "source": [
        "aa=np.add(y,x)"
      ],
      "metadata": {
        "id": "-vwB2neE1tlI"
      },
      "execution_count": null,
      "outputs": []
    },
    {
      "cell_type": "code",
      "source": [
        "print(aa)"
      ],
      "metadata": {
        "colab": {
          "base_uri": "https://localhost:8080/"
        },
        "id": "z_-ep2Iy18zx",
        "outputId": "fd396426-e8c4-458c-8332-2f5ec0b457fb"
      },
      "execution_count": null,
      "outputs": [
        {
          "output_type": "stream",
          "name": "stdout",
          "text": [
            "[[3]\n",
            " [5]\n",
            " [7]]\n"
          ]
        }
      ]
    },
    {
      "cell_type": "code",
      "source": [],
      "metadata": {
        "id": "2RZznuhj2Wse"
      },
      "execution_count": null,
      "outputs": []
    },
    {
      "cell_type": "code",
      "source": [
        "a=2\n",
        "np.add(x,2)"
      ],
      "metadata": {
        "colab": {
          "base_uri": "https://localhost:8080/"
        },
        "id": "h1Z9HWW12SSL",
        "outputId": "81c87175-65f0-42de-a846-a437b0309765"
      },
      "execution_count": null,
      "outputs": [
        {
          "output_type": "execute_result",
          "data": {
            "text/plain": [
              "array([[3],\n",
              "       [4],\n",
              "       [5]])"
            ]
          },
          "metadata": {},
          "execution_count": 23
        }
      ]
    },
    {
      "cell_type": "code",
      "source": [
        "## vectoe scalar multiplication\n",
        "a=2\n",
        "a*y"
      ],
      "metadata": {
        "colab": {
          "base_uri": "https://localhost:8080/"
        },
        "id": "LByCVp7Q19-T",
        "outputId": "8fe6ebb6-9981-44dc-d03d-b4b9eabc7e04"
      },
      "execution_count": null,
      "outputs": [
        {
          "output_type": "execute_result",
          "data": {
            "text/plain": [
              "array([[4],\n",
              "       [6],\n",
              "       [8]])"
            ]
          },
          "metadata": {},
          "execution_count": 24
        }
      ]
    },
    {
      "cell_type": "code",
      "source": [
        "## linear combination of vector\n",
        "a,b=2,3\n",
        "a*x+b*y"
      ],
      "metadata": {
        "colab": {
          "base_uri": "https://localhost:8080/"
        },
        "id": "JWnjsGAx2o_P",
        "outputId": "20becdc6-e4a9-4483-e300-1034ed0cbcf1"
      },
      "execution_count": null,
      "outputs": [
        {
          "output_type": "execute_result",
          "data": {
            "text/plain": [
              "array([[ 8],\n",
              "       [13],\n",
              "       [18]])"
            ]
          },
          "metadata": {},
          "execution_count": 25
        }
      ]
    },
    {
      "cell_type": "code",
      "source": [
        "## linear combination of vector\n",
        "a,b=2,3\n",
        "x,y = np.array([[2],[3]]),np.array([[4],[5]])\n",
        "a*x+b*y"
      ],
      "metadata": {
        "colab": {
          "base_uri": "https://localhost:8080/"
        },
        "id": "j-O9A2Fm3eTs",
        "outputId": "f732464e-833e-44e0-c3de-0700708c642e"
      },
      "execution_count": null,
      "outputs": [
        {
          "output_type": "execute_result",
          "data": {
            "text/plain": [
              "array([[16],\n",
              "       [21]])"
            ]
          },
          "metadata": {},
          "execution_count": 27
        }
      ]
    },
    {
      "cell_type": "code",
      "source": [
        "## vector-vector multiplication\n"
      ],
      "metadata": {
        "id": "dQWEpdNc3xPl"
      },
      "execution_count": null,
      "outputs": []
    },
    {
      "cell_type": "code",
      "source": [
        "x,y = np.array([[-2],[2]]),np.array([[4],[-3]])\n",
        "dot_product=x.T@y"
      ],
      "metadata": {
        "id": "Fi6M9iCD4RJx"
      },
      "execution_count": null,
      "outputs": []
    },
    {
      "cell_type": "code",
      "source": [
        "np.dot(x.T,y)"
      ],
      "metadata": {
        "colab": {
          "base_uri": "https://localhost:8080/"
        },
        "id": "_8cY5ADd5aFA",
        "outputId": "014e1670-77aa-4ab5-da6a-bdd62fdf3cc6"
      },
      "execution_count": null,
      "outputs": [
        {
          "output_type": "execute_result",
          "data": {
            "text/plain": [
              "array([[23]])"
            ]
          },
          "metadata": {},
          "execution_count": 29
        }
      ]
    },
    {
      "cell_type": "code",
      "source": [
        "x,y = np.array([[-2],[2]]),np.array([[4],[-3]])\n",
        "dot_product=x.T@y"
      ],
      "metadata": {
        "id": "gnqX7qbF5gX6"
      },
      "execution_count": null,
      "outputs": []
    },
    {
      "cell_type": "code",
      "source": [
        "print(dot_product)"
      ],
      "metadata": {
        "colab": {
          "base_uri": "https://localhost:8080/"
        },
        "id": "pCnsrPSr54Y0",
        "outputId": "6bb0a1ff-f6b2-43be-ae72-e8ebd2eee6fa"
      },
      "execution_count": null,
      "outputs": [
        {
          "output_type": "stream",
          "name": "stdout",
          "text": [
            "[[-14]]\n"
          ]
        }
      ]
    },
    {
      "cell_type": "code",
      "source": [
        "np.dot(x.T,y)"
      ],
      "metadata": {
        "colab": {
          "base_uri": "https://localhost:8080/"
        },
        "id": "-2tkMKjk6cr9",
        "outputId": "0c3f35fa-77fc-4787-fa68-87d135d00d60"
      },
      "execution_count": null,
      "outputs": [
        {
          "output_type": "execute_result",
          "data": {
            "text/plain": [
              "array([[-14]])"
            ]
          },
          "metadata": {},
          "execution_count": 35
        }
      ]
    },
    {
      "cell_type": "code",
      "source": [
        "#Eucleadin norm L2 and norm\n",
        "x=np.array([[3],[4]])\n",
        "np.linalg.norm(x,2)"
      ],
      "metadata": {
        "id": "xaTQEJl-7c3E",
        "colab": {
          "base_uri": "https://localhost:8080/"
        },
        "outputId": "f79cfe7f-c0be-4e3a-f6a0-657b56452eb3"
      },
      "execution_count": null,
      "outputs": [
        {
          "output_type": "execute_result",
          "data": {
            "text/plain": [
              "5.0"
            ]
          },
          "metadata": {},
          "execution_count": 36
        }
      ]
    },
    {
      "cell_type": "code",
      "source": [
        "# Manhattan norm  L1 normy\n",
        "x=np.array([[3],[-4]])\n",
        "np.linalg.norm(x,1)"
      ],
      "metadata": {
        "colab": {
          "base_uri": "https://localhost:8080/"
        },
        "id": "Oy42baSi-KQ5",
        "outputId": "2281e2d1-62a5-4635-ad4e-050056f5baa1"
      },
      "execution_count": null,
      "outputs": [
        {
          "output_type": "execute_result",
          "data": {
            "text/plain": [
              "7.0"
            ]
          },
          "metadata": {},
          "execution_count": 37
        }
      ]
    },
    {
      "cell_type": "code",
      "source": [
        "# Max norm infinity norm\n",
        "x=np.array([[3],[-4]])\n",
        "np.linalg.norm(x,np.inf)"
      ],
      "metadata": {
        "colab": {
          "base_uri": "https://localhost:8080/"
        },
        "id": "H8_TILMx-dUG",
        "outputId": "b0ea2ee3-ac64-42b8-cef6-8888e0fd10d4"
      },
      "execution_count": null,
      "outputs": [
        {
          "output_type": "execute_result",
          "data": {
            "text/plain": [
              "4.0"
            ]
          },
          "metadata": {},
          "execution_count": 38
        }
      ]
    },
    {
      "cell_type": "code",
      "source": [
        "# to find distance\n",
        "x,y=np.array([[-2],[2]]),np.array([[4],[-3]])\n",
        "distance=np.linalg.norm(x-y,2)"
      ],
      "metadata": {
        "id": "xuRET1J1-vy2"
      },
      "execution_count": null,
      "outputs": []
    },
    {
      "cell_type": "code",
      "source": [
        "print(distance)"
      ],
      "metadata": {
        "colab": {
          "base_uri": "https://localhost:8080/"
        },
        "id": "r1vUxFPr_esx",
        "outputId": "a3f9a254-d85a-4642-b69d-970533f28408"
      },
      "execution_count": null,
      "outputs": [
        {
          "output_type": "stream",
          "name": "stdout",
          "text": [
            "6.0827625302982185\n"
          ]
        }
      ]
    },
    {
      "cell_type": "code",
      "source": [
        "# VECTOR ANGLES AND AOTHOGONALITY\n",
        "x=np.array([[1],[2]])\n",
        "y=np.array([[5],[7]])\n",
        "cos_theta=(x.T@y)/(np.linalg.norm(x,2)*np.linalg.norm(y,2))"
      ],
      "metadata": {
        "id": "_Lwr3zU2_lrc"
      },
      "execution_count": null,
      "outputs": []
    },
    {
      "cell_type": "code",
      "source": [
        "print(cos_theta)"
      ],
      "metadata": {
        "colab": {
          "base_uri": "https://localhost:8080/"
        },
        "id": "dMWs2Wn1BAlK",
        "outputId": "04a3430f-befc-4c51-8e01-d456574b74e4"
      },
      "execution_count": null,
      "outputs": [
        {
          "output_type": "stream",
          "name": "stdout",
          "text": [
            "[[0.98776297]]\n"
          ]
        }
      ]
    },
    {
      "cell_type": "code",
      "source": [
        "cos_inv = np.arccos(cos_theta)"
      ],
      "metadata": {
        "id": "QAUOT0jNBoZG"
      },
      "execution_count": null,
      "outputs": []
    },
    {
      "cell_type": "code",
      "source": [
        "print(cos_inv)\n",
        "# this is in radians"
      ],
      "metadata": {
        "colab": {
          "base_uri": "https://localhost:8080/"
        },
        "id": "6wvDWb5uCOrh",
        "outputId": "3f27d0b4-90be-48c6-c6ed-2317438012a6"
      },
      "execution_count": null,
      "outputs": [
        {
          "output_type": "stream",
          "name": "stdout",
          "text": [
            "[[0.15660188]]\n"
          ]
        }
      ]
    },
    {
      "cell_type": "code",
      "source": [
        "#conver to radiand to degrees\n",
        "degree = (180/np.pi)*(cos_inv)"
      ],
      "metadata": {
        "id": "kCoTLXwnDrCt"
      },
      "execution_count": null,
      "outputs": []
    },
    {
      "cell_type": "code",
      "source": [
        "print(degree)"
      ],
      "metadata": {
        "colab": {
          "base_uri": "https://localhost:8080/"
        },
        "id": "YxTKCYpcD6oq",
        "outputId": "7f0e54a2-3681-4c66-c2d0-233d9ebdd605"
      },
      "execution_count": null,
      "outputs": [
        {
          "output_type": "stream",
          "name": "stdout",
          "text": [
            "[[8.97262661]]\n"
          ]
        }
      ]
    },
    {
      "cell_type": "code",
      "source": [
        "# system of linear equations\n",
        "\n",
        "# x+2y = 8\n",
        "# 5x-3y=1\n",
        "\n",
        "A=np.array([[0,2] # 1st row\n",
        "            ,[1,4]])#2nd row"
      ],
      "metadata": {
        "id": "aeaUMRuuEGVe"
      },
      "execution_count": null,
      "outputs": []
    },
    {
      "cell_type": "code",
      "source": [
        "print(A)"
      ],
      "metadata": {
        "colab": {
          "base_uri": "https://localhost:8080/"
        },
        "id": "TvtxukEcGFXB",
        "outputId": "db0f350a-1ed2-4607-efdf-07041557dbfc"
      },
      "execution_count": null,
      "outputs": [
        {
          "output_type": "stream",
          "name": "stdout",
          "text": [
            "[[0 2]\n",
            " [1 4]]\n"
          ]
        }
      ]
    },
    {
      "cell_type": "code",
      "source": [
        "A.shape"
      ],
      "metadata": {
        "colab": {
          "base_uri": "https://localhost:8080/"
        },
        "id": "NswnjDHuGHmk",
        "outputId": "1fcae965-0c6b-4fc8-f4b0-58d2f079d3fa"
      },
      "execution_count": null,
      "outputs": [
        {
          "output_type": "execute_result",
          "data": {
            "text/plain": [
              "(2, 2)"
            ]
          },
          "metadata": {},
          "execution_count": 62
        }
      ]
    },
    {
      "cell_type": "code",
      "source": [
        "B=np.array([[3,1],#1at row\n",
        "           [-3,2]]) # 2nd row"
      ],
      "metadata": {
        "id": "OA3JfwEsGKBt"
      },
      "execution_count": null,
      "outputs": []
    },
    {
      "cell_type": "code",
      "source": [
        "print(B)"
      ],
      "metadata": {
        "colab": {
          "base_uri": "https://localhost:8080/"
        },
        "id": "3QkuRKpVGVia",
        "outputId": "019d63a5-461c-42f7-d82e-b61f871db29a"
      },
      "execution_count": null,
      "outputs": [
        {
          "output_type": "stream",
          "name": "stdout",
          "text": [
            "[[ 3  1]\n",
            " [-3  2]]\n"
          ]
        }
      ]
    },
    {
      "cell_type": "code",
      "source": [
        "A+B"
      ],
      "metadata": {
        "colab": {
          "base_uri": "https://localhost:8080/"
        },
        "id": "OL184V2sGb-D",
        "outputId": "0c48f646-85dd-48e2-e546-1edad9b5fa67"
      },
      "execution_count": null,
      "outputs": [
        {
          "output_type": "execute_result",
          "data": {
            "text/plain": [
              "array([[ 3,  3],\n",
              "       [-2,  6]])"
            ]
          },
          "metadata": {},
          "execution_count": 66
        }
      ]
    },
    {
      "cell_type": "code",
      "source": [
        "alpha = 2\n",
        "alpha*2"
      ],
      "metadata": {
        "colab": {
          "base_uri": "https://localhost:8080/"
        },
        "id": "C5MWS4pYGhcq",
        "outputId": "432cc770-57d2-4a29-8e6d-e0dc13a7f64f"
      },
      "execution_count": null,
      "outputs": [
        {
          "output_type": "execute_result",
          "data": {
            "text/plain": [
              "4"
            ]
          },
          "metadata": {},
          "execution_count": 67
        }
      ]
    },
    {
      "cell_type": "code",
      "source": [
        "alpha*A"
      ],
      "metadata": {
        "colab": {
          "base_uri": "https://localhost:8080/"
        },
        "id": "G0BxIv3SGoBu",
        "outputId": "3b1d77af-15e1-4aff-aa23-14cad0f2e9db"
      },
      "execution_count": null,
      "outputs": [
        {
          "output_type": "execute_result",
          "data": {
            "text/plain": [
              "array([[0, 4],\n",
              "       [2, 8]])"
            ]
          },
          "metadata": {},
          "execution_count": 69
        }
      ]
    },
    {
      "cell_type": "code",
      "source": [
        "np.multiply(alpha,A)"
      ],
      "metadata": {
        "colab": {
          "base_uri": "https://localhost:8080/"
        },
        "id": "mzafxiGwGrQH",
        "outputId": "197cd422-bb75-4602-e553-1538d8feb347"
      },
      "execution_count": null,
      "outputs": [
        {
          "output_type": "execute_result",
          "data": {
            "text/plain": [
              "array([[0, 4],\n",
              "       [2, 8]])"
            ]
          },
          "metadata": {},
          "execution_count": 70
        }
      ]
    },
    {
      "cell_type": "code",
      "source": [
        "# Matrix vector multiplication\n",
        "A @ x"
      ],
      "metadata": {
        "colab": {
          "base_uri": "https://localhost:8080/"
        },
        "id": "15yrm_7PGxDD",
        "outputId": "7fb5ff31-930d-4e5a-aa7b-764a74f215a9"
      },
      "execution_count": null,
      "outputs": [
        {
          "output_type": "execute_result",
          "data": {
            "text/plain": [
              "array([[4],\n",
              "       [9]])"
            ]
          },
          "metadata": {},
          "execution_count": 71
        }
      ]
    },
    {
      "cell_type": "code",
      "source": [
        "np.dot(A,x)"
      ],
      "metadata": {
        "colab": {
          "base_uri": "https://localhost:8080/"
        },
        "id": "66HZD_UYHgQj",
        "outputId": "56cbc75c-7ac8-4475-dbf2-3883f4e77cef"
      },
      "execution_count": null,
      "outputs": [
        {
          "output_type": "execute_result",
          "data": {
            "text/plain": [
              "array([[4],\n",
              "       [9]])"
            ]
          },
          "metadata": {},
          "execution_count": 72
        }
      ]
    },
    {
      "cell_type": "code",
      "source": [
        "A@B"
      ],
      "metadata": {
        "colab": {
          "base_uri": "https://localhost:8080/"
        },
        "id": "ztSynmmzHybT",
        "outputId": "204cdb48-629e-4051-e12b-95a98c7b0a75"
      },
      "execution_count": null,
      "outputs": [
        {
          "output_type": "execute_result",
          "data": {
            "text/plain": [
              "array([[-6,  4],\n",
              "       [-9,  9]])"
            ]
          },
          "metadata": {},
          "execution_count": 74
        }
      ]
    },
    {
      "cell_type": "code",
      "source": [],
      "metadata": {
        "id": "e-dEHq5EIMuM"
      },
      "execution_count": null,
      "outputs": []
    }
  ]
}