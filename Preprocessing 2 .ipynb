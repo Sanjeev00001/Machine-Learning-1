{
  "nbformat": 4,
  "nbformat_minor": 0,
  "metadata": {
    "colab": {
      "provenance": [],
      "include_colab_link": true
    },
    "kernelspec": {
      "name": "python3",
      "display_name": "Python 3"
    },
    "language_info": {
      "name": "python"
    }
  },
  "cells": [
    {
      "cell_type": "markdown",
      "metadata": {
        "id": "view-in-github",
        "colab_type": "text"
      },
      "source": [
        "<a href=\"https://colab.research.google.com/github/Sanjeev00001/Machine-Learning-1/blob/main/datapreprocess.ipynb\" target=\"_parent\"><img src=\"https://colab.research.google.com/assets/colab-badge.svg\" alt=\"Open In Colab\"/></a>"
      ]
    },
    {
      "cell_type": "code",
      "execution_count": null,
      "metadata": {
        "id": "UNf4BbRlnkJ7"
      },
      "outputs": [],
      "source": [
        "import pandas as pd"
      ]
    },
    {
      "cell_type": "code",
      "source": [
        "df=pd.read_csv('/content/demo1.csv')"
      ],
      "metadata": {
        "id": "5mQ0Cisin4qk"
      },
      "execution_count": null,
      "outputs": []
    },
    {
      "cell_type": "code",
      "source": [
        "df.shape"
      ],
      "metadata": {
        "colab": {
          "base_uri": "https://localhost:8080/"
        },
        "id": "0C93S8kboJxz",
        "outputId": "a66dd9f3-4687-4c52-afb9-0774ee808012"
      },
      "execution_count": null,
      "outputs": [
        {
          "output_type": "execute_result",
          "data": {
            "text/plain": [
              "(9, 4)"
            ]
          },
          "metadata": {},
          "execution_count": 3
        }
      ]
    },
    {
      "cell_type": "code",
      "source": [
        "print(df)"
      ],
      "metadata": {
        "colab": {
          "base_uri": "https://localhost:8080/"
        },
        "id": "rtoBB0CUoUZ5",
        "outputId": "c8d71fe8-004d-4c74-debc-099d0cf9e76c"
      },
      "execution_count": null,
      "outputs": [
        {
          "output_type": "stream",
          "name": "stdout",
          "text": [
            "  Ethinicity  Height  Weight Survive\n",
            "0      White   186.0    90.0     Yes\n",
            "1    African   185.0    98.0      No\n",
            "2      Asian   175.0    80.0      No\n",
            "3    African   180.0    88.0     Yes\n",
            "4      Asian   178.0     NaN      No\n",
            "5      Asian   172.0    72.0     Yes\n",
            "6      White   178.0    75.0      No\n",
            "7      White     NaN    89.0     Yes\n",
            "8    African   186.0    90.0     Yes\n"
          ]
        }
      ]
    },
    {
      "cell_type": "code",
      "source": [
        "#### remove column contains NAN values\n",
        "\n",
        "df1=df.dropna(axis=1)\n",
        "print(df1)"
      ],
      "metadata": {
        "colab": {
          "base_uri": "https://localhost:8080/"
        },
        "id": "rK_Lc9xBoYXc",
        "outputId": "9c48e93d-12b6-486b-e880-ccfc23ec4463"
      },
      "execution_count": null,
      "outputs": [
        {
          "output_type": "stream",
          "name": "stdout",
          "text": [
            "  Ethinicity Survive\n",
            "0      White     Yes\n",
            "1    African      No\n",
            "2      Asian      No\n",
            "3    African     Yes\n",
            "4      Asian      No\n",
            "5      Asian     Yes\n",
            "6      White      No\n",
            "7      White     Yes\n",
            "8    African     Yes\n"
          ]
        }
      ]
    },
    {
      "cell_type": "code",
      "source": [
        "#### remove rows with NAN values\n",
        "\n",
        "df2=df.dropna(axis=0)\n",
        "print(df2)"
      ],
      "metadata": {
        "colab": {
          "base_uri": "https://localhost:8080/"
        },
        "id": "dBsr06nwr0Il",
        "outputId": "620ee1e0-46b6-4494-9800-7410db73c1ad"
      },
      "execution_count": null,
      "outputs": [
        {
          "output_type": "stream",
          "name": "stdout",
          "text": [
            "  Ethinicity  Height  Weight Survive\n",
            "0      White   186.0    90.0     Yes\n",
            "1    African   185.0    98.0      No\n",
            "2      Asian   175.0    80.0      No\n",
            "3    African   180.0    88.0     Yes\n",
            "5      Asian   172.0    72.0     Yes\n",
            "6      White   178.0    75.0      No\n",
            "8    African   186.0    90.0     Yes\n"
          ]
        }
      ]
    },
    {
      "cell_type": "code",
      "source": [
        "### drop rows where all columns are NAN\n",
        "\n",
        "df3=df.dropna(axis=0, how='all')\n",
        "print(df3)"
      ],
      "metadata": {
        "colab": {
          "base_uri": "https://localhost:8080/"
        },
        "id": "AYHtyJSRs3u6",
        "outputId": "b1ca8e4a-c368-4b8c-a909-0ccc94ac0254"
      },
      "execution_count": null,
      "outputs": [
        {
          "output_type": "stream",
          "name": "stdout",
          "text": [
            "  Ethinicity  Height  Weight Survive\n",
            "0      White   186.0    90.0     Yes\n",
            "1    African   185.0    98.0      No\n",
            "2      Asian   175.0    80.0      No\n",
            "3    African   180.0    88.0     Yes\n",
            "4      Asian   178.0     NaN      No\n",
            "5      Asian   172.0    72.0     Yes\n",
            "6      White   178.0    75.0      No\n",
            "7      White     NaN    89.0     Yes\n",
            "8    African   186.0    90.0     Yes\n"
          ]
        }
      ]
    },
    {
      "cell_type": "code",
      "source": [
        "### drop rows where any of  column is NAN\n",
        "\n",
        "df4=df.dropna(axis=0, how='any')\n",
        "print(df4)"
      ],
      "metadata": {
        "colab": {
          "base_uri": "https://localhost:8080/"
        },
        "id": "XHdjO508tPuH",
        "outputId": "053e5341-9558-4f28-8c9f-5b79ccfb2a16"
      },
      "execution_count": null,
      "outputs": [
        {
          "output_type": "stream",
          "name": "stdout",
          "text": [
            "  Ethinicity  Height  Weight Survive\n",
            "0      White   186.0    90.0     Yes\n",
            "1    African   185.0    98.0      No\n",
            "2      Asian   175.0    80.0      No\n",
            "3    African   180.0    88.0     Yes\n",
            "5      Asian   172.0    72.0     Yes\n",
            "6      White   178.0    75.0      No\n",
            "8    African   186.0    90.0     Yes\n"
          ]
        }
      ]
    },
    {
      "cell_type": "code",
      "source": [
        "### delete rows when not have threshold non-NAN values\n",
        "\n",
        "df5=df.dropna(axis=0, thresh=4)\n",
        "print(df5)"
      ],
      "metadata": {
        "colab": {
          "base_uri": "https://localhost:8080/"
        },
        "id": "1UsNmdNRt4v8",
        "outputId": "56cfe324-d86f-471a-8896-707e15b97a80"
      },
      "execution_count": null,
      "outputs": [
        {
          "output_type": "stream",
          "name": "stdout",
          "text": [
            "  Ethinicity  Height  Weight Survive\n",
            "0      White   186.0    90.0     Yes\n",
            "1    African   185.0    98.0      No\n",
            "2      Asian   175.0    80.0      No\n",
            "3    African   180.0    88.0     Yes\n",
            "5      Asian   172.0    72.0     Yes\n",
            "6      White   178.0    75.0      No\n",
            "8    African   186.0    90.0     Yes\n"
          ]
        }
      ]
    },
    {
      "cell_type": "code",
      "source": [
        "### delete rows if NAN appears in specific column\n",
        "df6=df.dropna(axis=0, subset=['Height'])\n",
        "print(df6)"
      ],
      "metadata": {
        "colab": {
          "base_uri": "https://localhost:8080/"
        },
        "id": "n9dzgdmHubVB",
        "outputId": "a5bb5b3a-317a-4535-bd34-366eb1db8711"
      },
      "execution_count": null,
      "outputs": [
        {
          "output_type": "stream",
          "name": "stdout",
          "text": [
            "  Ethinicity  Height  Weight Survive\n",
            "0      White   186.0    90.0     Yes\n",
            "1    African   185.0    98.0      No\n",
            "2      Asian   175.0    80.0      No\n",
            "3    African   180.0    88.0     Yes\n",
            "4      Asian   178.0     NaN      No\n",
            "5      Asian   172.0    72.0     Yes\n",
            "6      White   178.0    75.0      No\n",
            "8    African   186.0    90.0     Yes\n"
          ]
        }
      ]
    },
    {
      "cell_type": "code",
      "source": [
        "df7=df.copy()\n",
        "from sklearn.impute import SimpleImputer\n",
        "si=SimpleImputer(strategy='mean')\n",
        "df7[['Height']]=si.fit_transform(df7[['Height']])\n",
        "df7[['Weight']]=si.fit_transform(df7[['Weight']])\n",
        "print(df7)"
      ],
      "metadata": {
        "colab": {
          "base_uri": "https://localhost:8080/"
        },
        "id": "MHoII9cxvXEQ",
        "outputId": "b4c26ec6-f994-440f-d929-bc07cf2a8271"
      },
      "execution_count": null,
      "outputs": [
        {
          "output_type": "stream",
          "name": "stdout",
          "text": [
            "  Ethinicity  Height  Weight Survive\n",
            "0      White   186.0   90.00     Yes\n",
            "1    African   185.0   98.00      No\n",
            "2      Asian   175.0   80.00      No\n",
            "3    African   180.0   88.00     Yes\n",
            "4      Asian   178.0   85.25      No\n",
            "5      Asian   172.0   72.00     Yes\n",
            "6      White   178.0   75.00      No\n",
            "7      White   180.0   89.00     Yes\n",
            "8    African   186.0   90.00     Yes\n"
          ]
        }
      ]
    },
    {
      "cell_type": "code",
      "source": [
        "df7=df.copy()\n",
        "from sklearn.impute import SimpleImputer\n",
        "si=SimpleImputer(strategy='median')\n",
        "df7[['Height']]=si.fit_transform(df7[['Height']])\n",
        "df7[['Weight']]=si.fit_transform(df7[['Weight']])\n",
        "print(df7)"
      ],
      "metadata": {
        "colab": {
          "base_uri": "https://localhost:8080/"
        },
        "id": "7VD7fTyYwvDg",
        "outputId": "60dd9d18-a1eb-42ab-9ac0-71daf5a2cfbe"
      },
      "execution_count": null,
      "outputs": [
        {
          "output_type": "stream",
          "name": "stdout",
          "text": [
            "  Ethinicity  Height  Weight Survive\n",
            "0      White   186.0    90.0     Yes\n",
            "1    African   185.0    98.0      No\n",
            "2      Asian   175.0    80.0      No\n",
            "3    African   180.0    88.0     Yes\n",
            "4      Asian   178.0    88.5      No\n",
            "5      Asian   172.0    72.0     Yes\n",
            "6      White   178.0    75.0      No\n",
            "7      White   179.0    89.0     Yes\n",
            "8    African   186.0    90.0     Yes\n"
          ]
        }
      ]
    },
    {
      "cell_type": "code",
      "source": [
        "df7=df.copy()\n",
        "from sklearn.impute import SimpleImputer\n",
        "si=SimpleImputer(strategy='most_frequent')\n",
        "#df7[['Height']]=si.fit_transform(df7[['Height']])\n",
        "#df7[['Weight']]=si.fit_transform(df7[['Weight']])\n",
        "df7=si.fit_transform(df)\n",
        "print(df7)"
      ],
      "metadata": {
        "colab": {
          "base_uri": "https://localhost:8080/"
        },
        "id": "TH-LvJoHy5HW",
        "outputId": "d24c28df-f597-4896-de66-af119a2d0930"
      },
      "execution_count": null,
      "outputs": [
        {
          "output_type": "stream",
          "name": "stdout",
          "text": [
            "[['White' 186.0 90.0 'Yes']\n",
            " ['African' 185.0 98.0 'No']\n",
            " ['Asian' 175.0 80.0 'No']\n",
            " ['African' 180.0 88.0 'Yes']\n",
            " ['Asian' 178.0 90.0 'No']\n",
            " ['Asian' 172.0 72.0 'Yes']\n",
            " ['White' 178.0 75.0 'No']\n",
            " ['White' 178.0 89.0 'Yes']\n",
            " ['African' 186.0 90.0 'Yes']]\n"
          ]
        }
      ]
    },
    {
      "cell_type": "code",
      "source": [
        "df7=pd.DataFrame(df7)\n",
        "df7.columns=['Ethinicity', 'Height','Weight','Survive']\n",
        "#print(df7)\n",
        "from sklearn.preprocessing import LabelEncoder\n",
        "le=LabelEncoder()\n",
        "df7['Ethinicity']=le.fit_transform(df7['Ethinicity'])\n",
        "df7['Survive']=le.fit_transform(df7['Survive'])"
      ],
      "metadata": {
        "id": "oB_6mSu8zLCr"
      },
      "execution_count": null,
      "outputs": []
    },
    {
      "cell_type": "code",
      "source": [
        "print(df7)"
      ],
      "metadata": {
        "colab": {
          "base_uri": "https://localhost:8080/"
        },
        "id": "oGqxPL1-Q0_-",
        "outputId": "5f3751b9-2d8c-4367-b6b9-93532fd4ef21"
      },
      "execution_count": null,
      "outputs": [
        {
          "output_type": "stream",
          "name": "stdout",
          "text": [
            "   Ethinicity Height Weight  Survive\n",
            "0           2  186.0   90.0        1\n",
            "1           0  185.0   98.0        0\n",
            "2           1  175.0   80.0        0\n",
            "3           0  180.0   88.0        1\n",
            "4           1  178.0   90.0        0\n",
            "5           1  172.0   72.0        1\n",
            "6           2  178.0   75.0        0\n",
            "7           2  178.0   89.0        1\n",
            "8           0  186.0   90.0        1\n"
          ]
        }
      ]
    },
    {
      "cell_type": "code",
      "source": [
        "print(df)"
      ],
      "metadata": {
        "colab": {
          "base_uri": "https://localhost:8080/"
        },
        "id": "uwj7VmgsRukd",
        "outputId": "b48f1b48-b4bf-4797-ef0f-bfc313d343a1"
      },
      "execution_count": null,
      "outputs": [
        {
          "output_type": "stream",
          "name": "stdout",
          "text": [
            "  Ethinicity  Height  Weight Survive\n",
            "0      White   186.0    90.0     Yes\n",
            "1    African   185.0    98.0      No\n",
            "2      Asian   175.0    80.0      No\n",
            "3    African   180.0    88.0     Yes\n",
            "4      Asian   178.0     NaN      No\n",
            "5      Asian   172.0    72.0     Yes\n",
            "6      White   178.0    75.0      No\n",
            "7      White     NaN    89.0     Yes\n",
            "8    African   186.0    90.0     Yes\n"
          ]
        }
      ]
    },
    {
      "cell_type": "code",
      "source": [
        "ohe1=pd.get_dummies(df['Ethinicity'])\n",
        "print(ohe1)"
      ],
      "metadata": {
        "colab": {
          "base_uri": "https://localhost:8080/"
        },
        "id": "soxT4rSdWOjL",
        "outputId": "103f4ee2-74a7-439d-ce23-cbdfb3cf2972"
      },
      "execution_count": null,
      "outputs": [
        {
          "output_type": "stream",
          "name": "stdout",
          "text": [
            "   African  Asian  White\n",
            "0        0      0      1\n",
            "1        1      0      0\n",
            "2        0      1      0\n",
            "3        1      0      0\n",
            "4        0      1      0\n",
            "5        0      1      0\n",
            "6        0      0      1\n",
            "7        0      0      1\n",
            "8        1      0      0\n"
          ]
        }
      ]
    },
    {
      "cell_type": "code",
      "source": [
        "from sklearn.preprocessing import OneHotEncoder\n",
        "ohe2=OneHotEncoder()\n",
        "df8=ohe2.fit_transform(df[['Ethinicity']])\n",
        "print(df8)"
      ],
      "metadata": {
        "colab": {
          "base_uri": "https://localhost:8080/"
        },
        "id": "Wm5bogSiWY1F",
        "outputId": "75e605a2-b753-4cab-9e02-ebc998e1632b"
      },
      "execution_count": null,
      "outputs": [
        {
          "output_type": "stream",
          "name": "stdout",
          "text": [
            "  (0, 2)\t1.0\n",
            "  (1, 0)\t1.0\n",
            "  (2, 1)\t1.0\n",
            "  (3, 0)\t1.0\n",
            "  (4, 1)\t1.0\n",
            "  (5, 1)\t1.0\n",
            "  (6, 2)\t1.0\n",
            "  (7, 2)\t1.0\n",
            "  (8, 0)\t1.0\n"
          ]
        }
      ]
    },
    {
      "cell_type": "code",
      "source": [
        "print(df)"
      ],
      "metadata": {
        "colab": {
          "base_uri": "https://localhost:8080/"
        },
        "id": "HYGqKJ5XXHqq",
        "outputId": "74446fea-0573-4b04-9657-8e5df437e73e"
      },
      "execution_count": null,
      "outputs": [
        {
          "output_type": "stream",
          "name": "stdout",
          "text": [
            "  Ethinicity  Height  Weight Survive\n",
            "0      White   186.0    90.0     Yes\n",
            "1    African   185.0    98.0      No\n",
            "2      Asian   175.0    80.0      No\n",
            "3    African   180.0    88.0     Yes\n",
            "4      Asian   178.0     NaN      No\n",
            "5      Asian   172.0    72.0     Yes\n",
            "6      White   178.0    75.0      No\n",
            "7      White     NaN    89.0     Yes\n",
            "8    African   186.0    90.0     Yes\n"
          ]
        }
      ]
    },
    {
      "cell_type": "code",
      "source": [
        "si=SimpleImputer(strategy='most_frequent')\n",
        "df10=si.fit_transform(df)\n",
        "print(df10)"
      ],
      "metadata": {
        "colab": {
          "base_uri": "https://localhost:8080/"
        },
        "id": "UGOE1sSocCRd",
        "outputId": "c8906623-ae81-43d3-f141-082fa443033d"
      },
      "execution_count": null,
      "outputs": [
        {
          "output_type": "stream",
          "name": "stdout",
          "text": [
            "[['White' 186.0 90.0 'Yes']\n",
            " ['African' 185.0 98.0 'No']\n",
            " ['Asian' 175.0 80.0 'No']\n",
            " ['African' 180.0 88.0 'Yes']\n",
            " ['Asian' 178.0 90.0 'No']\n",
            " ['Asian' 172.0 72.0 'Yes']\n",
            " ['White' 178.0 75.0 'No']\n",
            " ['White' 178.0 89.0 'Yes']\n",
            " ['African' 186.0 90.0 'Yes']]\n"
          ]
        }
      ]
    },
    {
      "cell_type": "code",
      "source": [
        "df10=pd.DataFrame(df10)\n",
        "print(df10.describe())"
      ],
      "metadata": {
        "colab": {
          "base_uri": "https://localhost:8080/"
        },
        "id": "2lNxG-5BdDqf",
        "outputId": "9094bc72-b8c8-4582-e92a-ed704e971324"
      },
      "execution_count": null,
      "outputs": [
        {
          "output_type": "stream",
          "name": "stdout",
          "text": [
            "            0      1     2    3\n",
            "count       9    9.0   9.0    9\n",
            "unique      3    6.0   7.0    2\n",
            "top     White  178.0  90.0  Yes\n",
            "freq        3    3.0   3.0    5\n"
          ]
        }
      ]
    },
    {
      "cell_type": "code",
      "source": [
        "df10[0]=le.fit_transform(df10[0])\n",
        "df10[3]=le.fit_transform(df10[3])\n",
        "print(df10)"
      ],
      "metadata": {
        "colab": {
          "base_uri": "https://localhost:8080/"
        },
        "id": "JZAELAkSdK3Y",
        "outputId": "b4c7c305-6a5b-41d6-d6ee-84900cf26ff0"
      },
      "execution_count": null,
      "outputs": [
        {
          "output_type": "stream",
          "name": "stdout",
          "text": [
            "   0      1     2  3\n",
            "0  2  186.0  90.0  1\n",
            "1  0  185.0  98.0  0\n",
            "2  1  175.0  80.0  0\n",
            "3  0  180.0  88.0  1\n",
            "4  1  178.0  90.0  0\n",
            "5  1  172.0  72.0  1\n",
            "6  2  178.0  75.0  0\n",
            "7  2  178.0  89.0  1\n",
            "8  0  186.0  90.0  1\n"
          ]
        }
      ]
    },
    {
      "cell_type": "code",
      "source": [
        "print(df10.info())"
      ],
      "metadata": {
        "colab": {
          "base_uri": "https://localhost:8080/"
        },
        "id": "sCzZJ4SleDS1",
        "outputId": "a2073df4-d38a-4243-9d1a-e67d268888b3"
      },
      "execution_count": null,
      "outputs": [
        {
          "output_type": "stream",
          "name": "stdout",
          "text": [
            "<class 'pandas.core.frame.DataFrame'>\n",
            "RangeIndex: 9 entries, 0 to 8\n",
            "Data columns (total 4 columns):\n",
            " #   Column  Non-Null Count  Dtype \n",
            "---  ------  --------------  ----- \n",
            " 0   0       9 non-null      int64 \n",
            " 1   1       9 non-null      object\n",
            " 2   2       9 non-null      object\n",
            " 3   3       9 non-null      int64 \n",
            "dtypes: int64(2), object(2)\n",
            "memory usage: 416.0+ bytes\n",
            "None\n"
          ]
        }
      ]
    },
    {
      "cell_type": "code",
      "source": [
        "df10[1]=df10[1].astype('int64')\n",
        "df10[2]=df10[2].astype('int64')"
      ],
      "metadata": {
        "id": "aLv6s09EdtOI"
      },
      "execution_count": null,
      "outputs": []
    },
    {
      "cell_type": "code",
      "source": [
        "df10.info()"
      ],
      "metadata": {
        "colab": {
          "base_uri": "https://localhost:8080/"
        },
        "id": "3yyYpOVnd39H",
        "outputId": "22829599-c81b-48ec-cf9a-282ae1eabea3"
      },
      "execution_count": null,
      "outputs": [
        {
          "output_type": "stream",
          "name": "stdout",
          "text": [
            "<class 'pandas.core.frame.DataFrame'>\n",
            "RangeIndex: 9 entries, 0 to 8\n",
            "Data columns (total 4 columns):\n",
            " #   Column  Non-Null Count  Dtype\n",
            "---  ------  --------------  -----\n",
            " 0   0       9 non-null      int64\n",
            " 1   1       9 non-null      int64\n",
            " 2   2       9 non-null      int64\n",
            " 3   3       9 non-null      int64\n",
            "dtypes: int64(4)\n",
            "memory usage: 416.0 bytes\n"
          ]
        }
      ]
    },
    {
      "cell_type": "code",
      "source": [
        "df10.describe()"
      ],
      "metadata": {
        "colab": {
          "base_uri": "https://localhost:8080/",
          "height": 300
        },
        "id": "Yhqs9o94gGld",
        "outputId": "3baa6970-a7fe-461c-bf0e-03b96a593c78"
      },
      "execution_count": null,
      "outputs": [
        {
          "output_type": "execute_result",
          "data": {
            "text/plain": [
              "              0           1          2         3\n",
              "count  9.000000    9.000000   9.000000  9.000000\n",
              "mean   1.000000  179.777778  85.777778  0.555556\n",
              "std    0.866025    4.969351   8.348320  0.527046\n",
              "min    0.000000  172.000000  72.000000  0.000000\n",
              "25%    0.000000  178.000000  80.000000  0.000000\n",
              "50%    1.000000  178.000000  89.000000  1.000000\n",
              "75%    2.000000  185.000000  90.000000  1.000000\n",
              "max    2.000000  186.000000  98.000000  1.000000"
            ],
            "text/html": [
              "\n",
              "  <div id=\"df-57330c60-ebb2-49ba-9128-e2d2c1085b37\" class=\"colab-df-container\">\n",
              "    <div>\n",
              "<style scoped>\n",
              "    .dataframe tbody tr th:only-of-type {\n",
              "        vertical-align: middle;\n",
              "    }\n",
              "\n",
              "    .dataframe tbody tr th {\n",
              "        vertical-align: top;\n",
              "    }\n",
              "\n",
              "    .dataframe thead th {\n",
              "        text-align: right;\n",
              "    }\n",
              "</style>\n",
              "<table border=\"1\" class=\"dataframe\">\n",
              "  <thead>\n",
              "    <tr style=\"text-align: right;\">\n",
              "      <th></th>\n",
              "      <th>0</th>\n",
              "      <th>1</th>\n",
              "      <th>2</th>\n",
              "      <th>3</th>\n",
              "    </tr>\n",
              "  </thead>\n",
              "  <tbody>\n",
              "    <tr>\n",
              "      <th>count</th>\n",
              "      <td>9.000000</td>\n",
              "      <td>9.000000</td>\n",
              "      <td>9.000000</td>\n",
              "      <td>9.000000</td>\n",
              "    </tr>\n",
              "    <tr>\n",
              "      <th>mean</th>\n",
              "      <td>1.000000</td>\n",
              "      <td>179.777778</td>\n",
              "      <td>85.777778</td>\n",
              "      <td>0.555556</td>\n",
              "    </tr>\n",
              "    <tr>\n",
              "      <th>std</th>\n",
              "      <td>0.866025</td>\n",
              "      <td>4.969351</td>\n",
              "      <td>8.348320</td>\n",
              "      <td>0.527046</td>\n",
              "    </tr>\n",
              "    <tr>\n",
              "      <th>min</th>\n",
              "      <td>0.000000</td>\n",
              "      <td>172.000000</td>\n",
              "      <td>72.000000</td>\n",
              "      <td>0.000000</td>\n",
              "    </tr>\n",
              "    <tr>\n",
              "      <th>25%</th>\n",
              "      <td>0.000000</td>\n",
              "      <td>178.000000</td>\n",
              "      <td>80.000000</td>\n",
              "      <td>0.000000</td>\n",
              "    </tr>\n",
              "    <tr>\n",
              "      <th>50%</th>\n",
              "      <td>1.000000</td>\n",
              "      <td>178.000000</td>\n",
              "      <td>89.000000</td>\n",
              "      <td>1.000000</td>\n",
              "    </tr>\n",
              "    <tr>\n",
              "      <th>75%</th>\n",
              "      <td>2.000000</td>\n",
              "      <td>185.000000</td>\n",
              "      <td>90.000000</td>\n",
              "      <td>1.000000</td>\n",
              "    </tr>\n",
              "    <tr>\n",
              "      <th>max</th>\n",
              "      <td>2.000000</td>\n",
              "      <td>186.000000</td>\n",
              "      <td>98.000000</td>\n",
              "      <td>1.000000</td>\n",
              "    </tr>\n",
              "  </tbody>\n",
              "</table>\n",
              "</div>\n",
              "    <div class=\"colab-df-buttons\">\n",
              "\n",
              "  <div class=\"colab-df-container\">\n",
              "    <button class=\"colab-df-convert\" onclick=\"convertToInteractive('df-57330c60-ebb2-49ba-9128-e2d2c1085b37')\"\n",
              "            title=\"Convert this dataframe to an interactive table.\"\n",
              "            style=\"display:none;\">\n",
              "\n",
              "  <svg xmlns=\"http://www.w3.org/2000/svg\" height=\"24px\" viewBox=\"0 -960 960 960\">\n",
              "    <path d=\"M120-120v-720h720v720H120Zm60-500h600v-160H180v160Zm220 220h160v-160H400v160Zm0 220h160v-160H400v160ZM180-400h160v-160H180v160Zm440 0h160v-160H620v160ZM180-180h160v-160H180v160Zm440 0h160v-160H620v160Z\"/>\n",
              "  </svg>\n",
              "    </button>\n",
              "\n",
              "  <style>\n",
              "    .colab-df-container {\n",
              "      display:flex;\n",
              "      gap: 12px;\n",
              "    }\n",
              "\n",
              "    .colab-df-convert {\n",
              "      background-color: #E8F0FE;\n",
              "      border: none;\n",
              "      border-radius: 50%;\n",
              "      cursor: pointer;\n",
              "      display: none;\n",
              "      fill: #1967D2;\n",
              "      height: 32px;\n",
              "      padding: 0 0 0 0;\n",
              "      width: 32px;\n",
              "    }\n",
              "\n",
              "    .colab-df-convert:hover {\n",
              "      background-color: #E2EBFA;\n",
              "      box-shadow: 0px 1px 2px rgba(60, 64, 67, 0.3), 0px 1px 3px 1px rgba(60, 64, 67, 0.15);\n",
              "      fill: #174EA6;\n",
              "    }\n",
              "\n",
              "    .colab-df-buttons div {\n",
              "      margin-bottom: 4px;\n",
              "    }\n",
              "\n",
              "    [theme=dark] .colab-df-convert {\n",
              "      background-color: #3B4455;\n",
              "      fill: #D2E3FC;\n",
              "    }\n",
              "\n",
              "    [theme=dark] .colab-df-convert:hover {\n",
              "      background-color: #434B5C;\n",
              "      box-shadow: 0px 1px 3px 1px rgba(0, 0, 0, 0.15);\n",
              "      filter: drop-shadow(0px 1px 2px rgba(0, 0, 0, 0.3));\n",
              "      fill: #FFFFFF;\n",
              "    }\n",
              "  </style>\n",
              "\n",
              "    <script>\n",
              "      const buttonEl =\n",
              "        document.querySelector('#df-57330c60-ebb2-49ba-9128-e2d2c1085b37 button.colab-df-convert');\n",
              "      buttonEl.style.display =\n",
              "        google.colab.kernel.accessAllowed ? 'block' : 'none';\n",
              "\n",
              "      async function convertToInteractive(key) {\n",
              "        const element = document.querySelector('#df-57330c60-ebb2-49ba-9128-e2d2c1085b37');\n",
              "        const dataTable =\n",
              "          await google.colab.kernel.invokeFunction('convertToInteractive',\n",
              "                                                    [key], {});\n",
              "        if (!dataTable) return;\n",
              "\n",
              "        const docLinkHtml = 'Like what you see? Visit the ' +\n",
              "          '<a target=\"_blank\" href=https://colab.research.google.com/notebooks/data_table.ipynb>data table notebook</a>'\n",
              "          + ' to learn more about interactive tables.';\n",
              "        element.innerHTML = '';\n",
              "        dataTable['output_type'] = 'display_data';\n",
              "        await google.colab.output.renderOutput(dataTable, element);\n",
              "        const docLink = document.createElement('div');\n",
              "        docLink.innerHTML = docLinkHtml;\n",
              "        element.appendChild(docLink);\n",
              "      }\n",
              "    </script>\n",
              "  </div>\n",
              "\n",
              "\n",
              "<div id=\"df-36fe2994-7d38-4c88-bdda-27d32d3cbd8e\">\n",
              "  <button class=\"colab-df-quickchart\" onclick=\"quickchart('df-36fe2994-7d38-4c88-bdda-27d32d3cbd8e')\"\n",
              "            title=\"Suggest charts\"\n",
              "            style=\"display:none;\">\n",
              "\n",
              "<svg xmlns=\"http://www.w3.org/2000/svg\" height=\"24px\"viewBox=\"0 0 24 24\"\n",
              "     width=\"24px\">\n",
              "    <g>\n",
              "        <path d=\"M19 3H5c-1.1 0-2 .9-2 2v14c0 1.1.9 2 2 2h14c1.1 0 2-.9 2-2V5c0-1.1-.9-2-2-2zM9 17H7v-7h2v7zm4 0h-2V7h2v10zm4 0h-2v-4h2v4z\"/>\n",
              "    </g>\n",
              "</svg>\n",
              "  </button>\n",
              "\n",
              "<style>\n",
              "  .colab-df-quickchart {\n",
              "      --bg-color: #E8F0FE;\n",
              "      --fill-color: #1967D2;\n",
              "      --hover-bg-color: #E2EBFA;\n",
              "      --hover-fill-color: #174EA6;\n",
              "      --disabled-fill-color: #AAA;\n",
              "      --disabled-bg-color: #DDD;\n",
              "  }\n",
              "\n",
              "  [theme=dark] .colab-df-quickchart {\n",
              "      --bg-color: #3B4455;\n",
              "      --fill-color: #D2E3FC;\n",
              "      --hover-bg-color: #434B5C;\n",
              "      --hover-fill-color: #FFFFFF;\n",
              "      --disabled-bg-color: #3B4455;\n",
              "      --disabled-fill-color: #666;\n",
              "  }\n",
              "\n",
              "  .colab-df-quickchart {\n",
              "    background-color: var(--bg-color);\n",
              "    border: none;\n",
              "    border-radius: 50%;\n",
              "    cursor: pointer;\n",
              "    display: none;\n",
              "    fill: var(--fill-color);\n",
              "    height: 32px;\n",
              "    padding: 0;\n",
              "    width: 32px;\n",
              "  }\n",
              "\n",
              "  .colab-df-quickchart:hover {\n",
              "    background-color: var(--hover-bg-color);\n",
              "    box-shadow: 0 1px 2px rgba(60, 64, 67, 0.3), 0 1px 3px 1px rgba(60, 64, 67, 0.15);\n",
              "    fill: var(--button-hover-fill-color);\n",
              "  }\n",
              "\n",
              "  .colab-df-quickchart-complete:disabled,\n",
              "  .colab-df-quickchart-complete:disabled:hover {\n",
              "    background-color: var(--disabled-bg-color);\n",
              "    fill: var(--disabled-fill-color);\n",
              "    box-shadow: none;\n",
              "  }\n",
              "\n",
              "  .colab-df-spinner {\n",
              "    border: 2px solid var(--fill-color);\n",
              "    border-color: transparent;\n",
              "    border-bottom-color: var(--fill-color);\n",
              "    animation:\n",
              "      spin 1s steps(1) infinite;\n",
              "  }\n",
              "\n",
              "  @keyframes spin {\n",
              "    0% {\n",
              "      border-color: transparent;\n",
              "      border-bottom-color: var(--fill-color);\n",
              "      border-left-color: var(--fill-color);\n",
              "    }\n",
              "    20% {\n",
              "      border-color: transparent;\n",
              "      border-left-color: var(--fill-color);\n",
              "      border-top-color: var(--fill-color);\n",
              "    }\n",
              "    30% {\n",
              "      border-color: transparent;\n",
              "      border-left-color: var(--fill-color);\n",
              "      border-top-color: var(--fill-color);\n",
              "      border-right-color: var(--fill-color);\n",
              "    }\n",
              "    40% {\n",
              "      border-color: transparent;\n",
              "      border-right-color: var(--fill-color);\n",
              "      border-top-color: var(--fill-color);\n",
              "    }\n",
              "    60% {\n",
              "      border-color: transparent;\n",
              "      border-right-color: var(--fill-color);\n",
              "    }\n",
              "    80% {\n",
              "      border-color: transparent;\n",
              "      border-right-color: var(--fill-color);\n",
              "      border-bottom-color: var(--fill-color);\n",
              "    }\n",
              "    90% {\n",
              "      border-color: transparent;\n",
              "      border-bottom-color: var(--fill-color);\n",
              "    }\n",
              "  }\n",
              "</style>\n",
              "\n",
              "  <script>\n",
              "    async function quickchart(key) {\n",
              "      const quickchartButtonEl =\n",
              "        document.querySelector('#' + key + ' button');\n",
              "      quickchartButtonEl.disabled = true;  // To prevent multiple clicks.\n",
              "      quickchartButtonEl.classList.add('colab-df-spinner');\n",
              "      try {\n",
              "        const charts = await google.colab.kernel.invokeFunction(\n",
              "            'suggestCharts', [key], {});\n",
              "      } catch (error) {\n",
              "        console.error('Error during call to suggestCharts:', error);\n",
              "      }\n",
              "      quickchartButtonEl.classList.remove('colab-df-spinner');\n",
              "      quickchartButtonEl.classList.add('colab-df-quickchart-complete');\n",
              "    }\n",
              "    (() => {\n",
              "      let quickchartButtonEl =\n",
              "        document.querySelector('#df-36fe2994-7d38-4c88-bdda-27d32d3cbd8e button');\n",
              "      quickchartButtonEl.style.display =\n",
              "        google.colab.kernel.accessAllowed ? 'block' : 'none';\n",
              "    })();\n",
              "  </script>\n",
              "</div>\n",
              "\n",
              "    </div>\n",
              "  </div>\n"
            ]
          },
          "metadata": {},
          "execution_count": 55
        }
      ]
    },
    {
      "cell_type": "code",
      "source": [
        "from sklearn.preprocessing import StandardScaler\n",
        "sc=StandardScaler()\n",
        "df11=sc.fit_transform(df10)\n",
        "print(pd.DataFrame(df11).describe())"
      ],
      "metadata": {
        "colab": {
          "base_uri": "https://localhost:8080/"
        },
        "id": "I5fsZatcgP8d",
        "outputId": "5ba4c591-4eb0-4fe2-9eae-4c461cece7f4"
      },
      "execution_count": null,
      "outputs": [
        {
          "output_type": "stream",
          "name": "stdout",
          "text": [
            "              0             1             2             3\n",
            "count  9.000000  9.000000e+00  9.000000e+00  9.000000e+00\n",
            "mean   0.000000  1.406282e-15  8.264994e-16 -9.868649e-17\n",
            "std    1.060660  1.060660e+00  1.060660e+00  1.060660e+00\n",
            "min   -1.224745 -1.660092e+00 -1.750477e+00 -1.118034e+00\n",
            "25%   -1.224745 -3.794496e-01 -7.340709e-01 -1.118034e+00\n",
            "50%    0.000000 -3.794496e-01  4.093857e-01  8.944272e-01\n",
            "75%    1.224745  1.114633e+00  5.364364e-01  8.944272e-01\n",
            "max    1.224745  1.328074e+00  1.552842e+00  8.944272e-01\n"
          ]
        }
      ]
    },
    {
      "cell_type": "code",
      "source": [
        "from sklearn.preprocessing import MinMaxScaler\n",
        "norm=MinMaxScaler()\n",
        "df12=norm.fit_transform(df10)\n",
        "print(pd.DataFrame(df12).describe())"
      ],
      "metadata": {
        "colab": {
          "base_uri": "https://localhost:8080/"
        },
        "id": "LcCbXD_8g-n0",
        "outputId": "4f4f60f1-397e-400d-db84-8cf6f5b23949"
      },
      "execution_count": null,
      "outputs": [
        {
          "output_type": "stream",
          "name": "stdout",
          "text": [
            "              0         1         2         3\n",
            "count  9.000000  9.000000  9.000000  9.000000\n",
            "mean   0.500000  0.555556  0.529915  0.555556\n",
            "std    0.433013  0.354954  0.321089  0.527046\n",
            "min    0.000000  0.000000  0.000000  0.000000\n",
            "25%    0.000000  0.428571  0.307692  0.000000\n",
            "50%    0.500000  0.428571  0.653846  1.000000\n",
            "75%    1.000000  0.928571  0.692308  1.000000\n",
            "max    1.000000  1.000000  1.000000  1.000000\n"
          ]
        }
      ]
    },
    {
      "cell_type": "code",
      "source": [],
      "metadata": {
        "id": "iu_-u-Arin8x"
      },
      "execution_count": null,
      "outputs": []
    }
  ]
}
